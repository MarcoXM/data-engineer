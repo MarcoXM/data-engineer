{
 "cells": [
  {
   "cell_type": "code",
   "execution_count": 4,
   "metadata": {
    "editable": true
   },
   "outputs": [],
   "source": [
    "import configparser\n",
    "from datetime import datetime\n",
    "import os\n",
    "from pyspark.sql import SparkSession\n",
    "from pyspark.sql.functions import udf, col\n",
    "from pyspark.sql.functions import year, month, dayofmonth, hour, weekofyear, date_format\n",
    "\n",
    "\n",
    "config = configparser.ConfigParser()\n",
    "config.read('dl.cfg')\n",
    "\n",
    "os.environ['AWS_ACCESS_KEY_ID']=config.get('AWS','AWS_ACCESS_KEY_ID')\n",
    "os.environ['AWS_SECRET_ACCESS_KEY']=config.get('AWS','AWS_SECRET_ACCESS_KEY')\n",
    "\n",
    "\n",
    "def create_spark_session():\n",
    "    spark = SparkSession \\\n",
    "        .builder \\\n",
    "        .config(\"spark.jars.packages\", \"org.apache.hadoop:hadoop-aws:2.7.0\") \\\n",
    "        .getOrCreate()\n",
    "    return spark "
   ]
  },
  {
   "cell_type": "code",
   "execution_count": 11,
   "metadata": {
    "editable": true
   },
   "outputs": [],
   "source": [
    "def process_song_data(spark, input_data, output_data):\n",
    "    \"\"\"\n",
    "        Description: This function loads song_data from S3 and processes it by extracting the songs and artist tables\n",
    "        and then again loaded back to S3\n",
    "        \n",
    "        Parameters:\n",
    "            spark       : this is the Spark Session\n",
    "            input_data  : the location of song_data from where the file is load to process\n",
    "            output_data : the location where after processing the results will be stored\n",
    "            \n",
    "    \"\"\"\n",
    "    # get filepath to song data file\n",
    "    song_data = input_data + 'song_data/*/*/*/*.json'\n",
    "\n",
    "    \n",
    "    # read song data file\n",
    "    df = spark.read.json(song_data)\n",
    "    df.createOrReplaceTempView(\"song_data_table\")\n",
    "\n",
    "    # extract columns to create songs table\n",
    "    songs_table = spark.sql(\"\"\"\n",
    "                            SELECT sdtn.song_id, \n",
    "                            sdtn.title,\n",
    "                            sdtn.artist_id,\n",
    "                            sdtn.year,\n",
    "                            sdtn.duration\n",
    "                            FROM song_data_table sdtn\n",
    "                            WHERE song_id IS NOT NULL\n",
    "                        \"\"\")\n",
    "    \n",
    "    \n",
    "    # write songs table to parquet files partitioned by year and artist\n",
    "    songs_table.write.mode('overwrite').partitionBy(\"year\", \"artist_id\").parquet(output_data+'songs_table/')\n",
    "\n",
    "    # extract columns to create artists table\n",
    "    artists_table = spark.sql(\"\"\"\n",
    "                                SELECT DISTINCT arti.artist_id, \n",
    "                                arti.artist_name,\n",
    "                                arti.artist_location,\n",
    "                                arti.artist_latitude,\n",
    "                                arti.artist_longitude\n",
    "                                FROM song_data_table arti\n",
    "                                WHERE arti.artist_id IS NOT NULL\n",
    "                            \"\"\")\n",
    "    \n",
    "    # write artists table to parquet files\n",
    "    artists_table.write.mode('overwrite').partitionBy('artist_name').parquet(output_data+'artists_table/')\n"
   ]
  },
  {
   "cell_type": "code",
   "execution_count": 12,
   "metadata": {
    "editable": true
   },
   "outputs": [],
   "source": [
    "input_data = \"s3a://udacity-dend/\""
   ]
  },
  {
   "cell_type": "code",
   "execution_count": null,
   "metadata": {
    "editable": true
   },
   "outputs": [],
   "source": [
    "spark = create_spark_session()\n",
    "df = spark.read.json(input_data)\n",
    "df.printSchema()"
   ]
  },
  {
   "cell_type": "code",
   "execution_count": null,
   "metadata": {
    "editable": true
   },
   "outputs": [],
   "source": [
    "def process_log_data(spark, input_data, output_data):\n",
    "    # get filepath to log data file\n",
    "    log_data = input_data + 'log_data/*/*/*.json'\n",
    "\n",
    "    # read log data file\n",
    "    df = spark.read.json(log_data)\n",
    "    \n",
    "    # filter by actions for song plays\n",
    "    df = df.filter(df.page == 'NextSong')\n",
    "    df.createOrReplaceTempView('log_data_table')\n",
    "\n",
    "    # extract columns for users table    \n",
    "    artists_table = saprk.sql('''SELECT DISTINCT userT.userId as user_id, \n",
    "                            userT.firstName as first_name,\n",
    "                            userT.lastName as last_name,\n",
    "                            userT.gender as gender,\n",
    "                            userT.level as level\n",
    "                            FROM log_data_table userT\n",
    "                            WHERE userT.userId IS NOT NULL \n",
    "    ''')\n",
    "    \n",
    "    # write users table to parquet files\n",
    "    artists_table.write.mode('overite').partitionBy('level').parquet(output_data+'users_table/')\n",
    "\n",
    "\n",
    "    \n",
    "    time_table = spark.sql(\"\"\"\n",
    "                            SELECT \n",
    "                            A.start_time_sub as start_time,\n",
    "                            hour(A.start_time_sub) as hour,\n",
    "                            dayofmonth(A.start_time_sub) as day,\n",
    "                            weekofyear(A.start_time_sub) as week,\n",
    "                            month(A.start_time_sub) as month,\n",
    "                            year(A.start_time_sub) as year,\n",
    "                            dayofweek(A.start_time_sub) as weekday\n",
    "                            FROM\n",
    "                            (SELECT to_timestamp(timeSt.ts/1000) as start_time_sub\n",
    "                            FROM log_data_table timeSt\n",
    "                            WHERE timeSt.ts IS NOT NULL\n",
    "                            ) A\n",
    "                        \"\"\")\n",
    "    \n",
    "    # write time table to parquet files partitioned by year and month\n",
    "    time_table.write.mode('overwrite').partitionBy(\"year\", \"month\").parquet(output_data+'time_table/')\n",
    "\n",
    "    # read in song data to use for songplays table\n",
    "    song_df = spark.read.parquet(output_data+'songs_table/')\n",
    "\n",
    "    #This is the center dataset\n",
    "    songplays_table = spark.sql(\"\"\"\n",
    "                                SELECT monotonically_increasing_id() as songplay_id,\n",
    "                                to_timestamp(logT.ts/1000) as start_time,\n",
    "                                month(to_timestamp(logT.ts/1000)) as month,\n",
    "                                year(to_timestamp(logT.ts/1000)) as year,\n",
    "                                logT.userId as user_id,\n",
    "                                logT.level as level,\n",
    "                                songT.song_id as song_id,\n",
    "                                songT.artist_id as artist_id,\n",
    "                                logT.sessionId as session_id,\n",
    "                                logT.location as location,\n",
    "                                logT.userAgent as user_agent\n",
    "                                FROM log_data_table logT\n",
    "                                JOIN song_data_table songT on logT.artist = songT.artist_name and logT.song = songT.title\n",
    "                            \"\"\")\n",
    "\n",
    "    # write songplays table to parquet files partitioned by year and month\n",
    "    songplays_table.write.mode('overwrite').partitionBy(\"year\", \"month\").parquet(output_data+'songplays_table/')\n"
   ]
  },
  {
   "cell_type": "code",
   "execution_count": null,
   "metadata": {
    "editable": true
   },
   "outputs": [],
   "source": []
  }
 ],
 "metadata": {
  "kernelspec": {
   "display_name": "Python 3",
   "language": "python",
   "name": "python3"
  },
  "language_info": {
   "codemirror_mode": {
    "name": "ipython",
    "version": 3
   },
   "file_extension": ".py",
   "mimetype": "text/x-python",
   "name": "python",
   "nbconvert_exporter": "python",
   "pygments_lexer": "ipython3",
   "version": "3.6.3"
  }
 },
 "nbformat": 4,
 "nbformat_minor": 4
}
